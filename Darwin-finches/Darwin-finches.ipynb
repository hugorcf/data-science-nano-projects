{
 "cells": [
  {
   "cell_type": "markdown",
   "metadata": {},
   "source": [
    "# Darwin's finches\n",
    "\n",
    "by Hugo Ferreira (2018)"
   ]
  },
  {
   "cell_type": "markdown",
   "metadata": {},
   "source": [
    "In this notebook, I will perform some very basic data and statistical analysis on data on [Darwin's finches](https://en.wikipedia.org/wiki/Darwin%27s_finches).\n",
    "\n",
    "![title](images/Darwins_finches.jpg)\n",
    "\n",
    "This analysis was done as practice in Python and basic stats concepts such as hypothesis testing, confidnece intervals and linear regression.\n",
    "\n",
    "The original data can be found in:\n",
    "\n",
    "> Grant PR, Grant BR (2014) Data from: 40 years of evolution. Darwin's finches on Daphne Major Island. Dryad Digital Repository. https://doi.org/10.5061/dryad.g6g3h\n",
    "\n",
    "The inspiration to create this notebook came from the *Statistical Thinking in Python* courses in [DataCamp](https://www.datacamp.com). The datasets (in csb"
   ]
  },
  {
   "cell_type": "code",
   "execution_count": null,
   "metadata": {},
   "outputs": [],
   "source": []
  }
 ],
 "metadata": {
  "kernelspec": {
   "display_name": "Python 3",
   "language": "python",
   "name": "python3"
  },
  "language_info": {
   "codemirror_mode": {
    "name": "ipython",
    "version": 3
   },
   "file_extension": ".py",
   "mimetype": "text/x-python",
   "name": "python",
   "nbconvert_exporter": "python",
   "pygments_lexer": "ipython3",
   "version": "3.6.4"
  }
 },
 "nbformat": 4,
 "nbformat_minor": 2
}
